{
 "cells": [
  {
   "cell_type": "code",
   "execution_count": 2,
   "metadata": {},
   "outputs": [],
   "source": [
    "import numpy\n",
    "import pandas as pd\n",
    "import torch\n",
    "import numpy as np\n",
    "#from sklearn.preprocessing import MinMaxScaler\n",
    "from torch.utils.data import TensorDataset, DataLoader\n",
    "import os,random\n",
    "import torchvision.transforms as T\n",
    "import csv\n",
    "import cv2\n",
    "from torch.utils.data import Dataset\n",
    "from torchvision import transforms\n",
    "import torch.nn.functional as F\n",
    "from PIL import Image\n",
    "import torch.nn as nn\n",
    "import matplotlib.pyplot as plt\n",
    "from torch.autograd import Variable\n",
    "#import imageio\n",
    "#import imgaug as ia\n",
    "#import imgaug.augmenters as iaa\n",
    "#from torch.utils.tensorboard import SummaryWriter #tensorboard --logdir log --bind_all\n"
   ]
  },
  {
   "cell_type": "code",
   "execution_count": 4,
   "metadata": {},
   "outputs": [],
   "source": [
    "def diffimg(img0,img1):\n",
    "  # 将图像转换为灰度图\n",
    "  gray_image1 = cv2.cvtColor(img0, cv2.COLOR_BGR2GRAY)\n",
    "  gray_image2 = cv2.cvtColor(img1, cv2.COLOR_BGR2GRAY)\n",
    "  # 计算两个图像的差异\n",
    "  diff = cv2.absdiff(gray_image1, gray_image2)\n",
    "  # 设置一个阈值，将差异值大于阈值的像素设为白色\n",
    "  _, threshold = cv2.threshold(diff, 20, 255, cv2.THRESH_BINARY)\n",
    "  # 找到白色区域的轮廓\n",
    "  contours, _ = cv2.findContours(threshold, cv2.RETR_EXTERNAL, cv2.CHAIN_APPROX_SIMPLE)\n",
    "  # 创建空白图像\n",
    "  diffimg = np.zeros_like(img0)\n",
    "  cv2.drawContours(diffimg, contours, -1, (0, 255, 0), 2)\n",
    "  return diffimg\n",
    "\n",
    "\n",
    "file = pd.read_csv(r'./label/label-2024pretension.csv')\n",
    "file=np.array(file)\n",
    "path='./database/2024preten/inputdata/'\n",
    "dir = './database/2024preten/inputdata/'\n",
    "topath='./database/2024preten/diffimg/'\n",
    "labels=[]\n",
    "img_data = []\n",
    "f0 = None\n",
    "for file_name in os.listdir(path):\n",
    "    if f0 is None:\n",
    "        f0 = os.path.join(path, file_name)\n",
    "    if file_name != \"Thumbs.db\":\n",
    "      if int(file_name[-9:-4]) > 9900 or int(file_name[-9:-4]) < 106:\n",
    "        img_dir = os.path.join(dir, file_name)\n",
    "        img = cv2.imread(img_dir)\n",
    "        img0 = cv2.imread('./database/2024preten/inputdata/DSC00001.JPG')\n",
    "        img = cv2.absdiff(img0,img)\n",
    "        cv2.imwrite(topath+'no1-'+file_name,img)\n",
    "      # if int(file_name[-9:-4]) > 106 and int(file_name[-9:-4]) < 256:\n",
    "      #   img_dir = os.path.join(dir, file_name)\n",
    "      #   img = cv2.imread(img_dir)\n",
    "      #   img0 = cv2.imread('/content/drive/MyDrive/student/chen/2024boltpreload/inputdata/DSC00231.JPG')\n",
    "      #   img = cv2.absdiff(img0,img)\n",
    "      #   cv2.imwrite(topath+'no2-'+file_name,img)\n",
    "      # if int(file_name[-9:-4]) > 256 and int(file_name[-9:-4]) < 406:\n",
    "      #   img_dir = os.path.join(dir, file_name)\n",
    "      #   img = cv2.imread(img_dir)\n",
    "      #   img0 = cv2.imread('/content/drive/MyDrive/student/chen/2024boltpreload/inputdata/DSC00393.JPG')\n",
    "      #   img = cv2.absdiff(img0,img)\n",
    "      #   cv2.imwrite(topath+'no3-'+file_name,img)"
   ]
  },
  {
   "cell_type": "code",
   "execution_count": 1,
   "metadata": {},
   "outputs": [
    {
     "name": "stdout",
     "output_type": "stream",
     "text": [
      "2\n"
     ]
    }
   ],
   "source": [
    "#from net import ResNet, Bottleneck, test\n",
    "import net\n",
    "\n",
    "c=net.test(1)\n",
    "print(c)\n"
   ]
  },
  {
   "cell_type": "code",
   "execution_count": 2,
   "metadata": {},
   "outputs": [
    {
     "name": "stdout",
     "output_type": "stream",
     "text": [
      "25.600000381469727\n",
      "890.0\n",
      "1620.199951171875\n",
      "39.5\n",
      "1600.0\n"
     ]
    }
   ],
   "source": [
    "import torch\n",
    "import torch.nn as nn\n",
    "from loss_function import HuberLoss\n",
    "\n",
    "loss_func1 = HuberLoss()\n",
    "loss_func2 = nn.MSELoss()\n",
    "# 假设你有输入张量input和目标张量target\n",
    "input = torch.tensor([50.0, 50.0, 50.0, 50.0, 50.0], dtype=torch.float32)\n",
    "input2 = torch.tensor([50.0])\n",
    "target = torch.tensor([10.0, 50.0, 90.0, 25.0, 25.0], dtype=torch.float32)\n",
    "target3 = torch.tensor([1.0,100.0,10.0,90.0,50.0], dtype=torch.float32)\n",
    "target2 = torch.tensor([10.0])\n",
    "#input = torch.randn(3, 5, requires_grad=True)\n",
    "#target = torch.randn(3, 5)\n",
    "\n",
    "loss1 = loss_func1(input, target)\n",
    "loss2 = loss_func2(input, target)\n",
    "loss3 = loss_func2(input, target3)\n",
    "\n",
    "loss21 = loss_func1(input2, target2)\n",
    "loss22 = loss_func2(input2, target2)\n",
    "\n",
    "\n",
    "print(loss1.item())\n",
    "print(loss2.item())\n",
    "print(loss3.item())\n",
    "print(loss21.item())\n",
    "print(loss22.item())\n"
   ]
  },
  {
   "cell_type": "code",
   "execution_count": 4,
   "metadata": {},
   "outputs": [
    {
     "ename": "NameError",
     "evalue": "name 'cv2' is not defined",
     "output_type": "error",
     "traceback": [
      "\u001b[1;31m---------------------------------------------------------------------------\u001b[0m",
      "\u001b[1;31mNameError\u001b[0m                                 Traceback (most recent call last)",
      "Cell \u001b[1;32mIn[4], line 1\u001b[0m\n\u001b[1;32m----> 1\u001b[0m image1 \u001b[38;5;241m=\u001b[39m \u001b[43mcv2\u001b[49m\u001b[38;5;241m.\u001b[39mimread(\u001b[38;5;124m'\u001b[39m\u001b[38;5;124m/database/inputdata/DSC09955.JPG\u001b[39m\u001b[38;5;124m'\u001b[39m)\n\u001b[0;32m      2\u001b[0m image2 \u001b[38;5;241m=\u001b[39m cv2\u001b[38;5;241m.\u001b[39mimread(\u001b[38;5;124m'\u001b[39m\u001b[38;5;124m/database/inputdata/DSC09983.JPG\u001b[39m\u001b[38;5;124m'\u001b[39m)\n\u001b[0;32m      3\u001b[0m \u001b[38;5;66;03m# 将图像转换为灰度图\u001b[39;00m\n",
      "\u001b[1;31mNameError\u001b[0m: name 'cv2' is not defined"
     ]
    }
   ],
   "source": [
    "image1 = cv2.imread('/database/2024preten/inputdata/DSC09955.JPG')\n",
    "image2 = cv2.imread('/database/2024preten/inputdata/DSC09983.JPG')\n",
    "# 将图像转换为灰度图\n",
    "gray_image1 = cv2.cvtColor(image1, cv2.COLOR_BGR2GRAY)\n",
    "gray_image2 = cv2.cvtColor(image2, cv2.COLOR_BGR2GRAY)\n",
    "# 计算两个图像的差异  \n",
    "diff = cv2.absdiff(gray_image1, gray_image2)\n",
    "# 设置一个阈值，将差异值大于阈值的像素设为白色\n",
    "_, threshold = cv2.threshold(diff, 15, 255, cv2.THRESH_BINARY)\n",
    "# 找到白色区域的轮廓\n",
    "contours, _ = cv2.findContours(threshold, cv2.RETR_EXTERNAL, cv2.CHAIN_APPROX_SIMPLE)\n",
    "# 创建空白图像\n",
    "contour_image = np.zeros_like(image1)\n",
    "# 绘制轮廓到原始图像\n",
    "result_image = image1.copy()\n",
    "cv2.drawContours(result_image, contours, -1, (0, 255, 0), 2)\n",
    "\n",
    "# 显示结果图像\n",
    "#cv2_imshow(contour_image)\n",
    "cv2.imshow(result_image)"
   ]
  }
 ],
 "metadata": {
  "kernelspec": {
   "display_name": "pytorch",
   "language": "python",
   "name": "python3"
  },
  "language_info": {
   "codemirror_mode": {
    "name": "ipython",
    "version": 3
   },
   "file_extension": ".py",
   "mimetype": "text/x-python",
   "name": "python",
   "nbconvert_exporter": "python",
   "pygments_lexer": "ipython3",
   "version": "3.11.0"
  },
  "orig_nbformat": 4
 },
 "nbformat": 4,
 "nbformat_minor": 2
}
