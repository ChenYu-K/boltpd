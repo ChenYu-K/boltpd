{
 "cells": [
  {
   "cell_type": "markdown",
   "metadata": {},
   "source": [
    "Creat vidro"
   ]
  },
  {
   "cell_type": "code",
   "execution_count": 8,
   "metadata": {},
   "outputs": [
    {
     "name": "stdout",
     "output_type": "stream",
     "text": [
      "Video created successfully!\n"
     ]
    }
   ],
   "source": [
    "import os\n",
    "import cv2\n",
    "\n",
    "# 输入文件夹路径\n",
    "input_folder = './database/2024preten/inputdata/'\n",
    "# 输出视频文件名\n",
    "output_video = 'output_video-cuda.avi'\n",
    "# 视频帧率\n",
    "fps = 30\n",
    "# 图片持续时间（秒）\n",
    "image_duration = 0.2\n",
    "\n",
    "# 获取文件夹中的所有图片文件名\n",
    "image_files = [f for f in os.listdir(input_folder) if f.endswith('.jpg') or f.endswith('.JPG')]\n",
    "# 按文件名排序图片文件列表\n",
    "image_files.sort()\n",
    "\n",
    "# 获取第一张图片的宽高信息\n",
    "first_image = cv2.imread(os.path.join(input_folder, image_files[0]))\n",
    "height, width, _ = first_image.shape\n",
    "\n",
    "# 创建视频写入对象\n",
    "fourcc = cv2.VideoWriter_fourcc(*'XVID')\n",
    "video_writer = cv2.VideoWriter(output_video, fourcc, fps, (width, height))\n",
    "# 使用CUDA加速的视频写入对象\n",
    "#video_writer_cuda = cv2.VideoWriter_cuda_create(output_video, (width, height), fps)\n",
    "\n",
    "# 逐张处理图片并写入视频\n",
    "for image_file in image_files:\n",
    "    if int(image_file[-9:-4]) > 106 and int(image_file[-9:-4]) < 256:\n",
    "        image_path = os.path.join(input_folder, image_file)\n",
    "        image = cv2.imread(image_path)\n",
    "\n",
    "        # 在图片右上角标注图片名字\n",
    "        cv2.putText(image, image_file, (20, 40), cv2.FONT_HERSHEY_SIMPLEX, 2, (255, 255, 255), 2)\n",
    "        \n",
    "        # 画方框\n",
    "        #cv2.rectangle(image, (0, 0), (200, 50), (0, 0, 0), -1)\n",
    "        \n",
    "        # 将图片写入视频多次以达到持续时间\n",
    "        for _ in range(int(fps * image_duration)):\n",
    "            video_writer.write(image)\n",
    "            # 使用CUDA加速写入视频\n",
    "            #video_writer_cuda.write(cv2.UMat(image))\n",
    "\n",
    "# 释放资源\n",
    "video_writer.release()\n",
    "#video_writer_cuda.release()\n",
    "cv2.destroyAllWindows()\n",
    "\n",
    "print(\"Video created successfully!\")\n"
   ]
  }
 ],
 "metadata": {
  "kernelspec": {
   "display_name": "pytorch",
   "language": "python",
   "name": "python3"
  },
  "language_info": {
   "codemirror_mode": {
    "name": "ipython",
    "version": 3
   },
   "file_extension": ".py",
   "mimetype": "text/x-python",
   "name": "python",
   "nbconvert_exporter": "python",
   "pygments_lexer": "ipython3",
   "version": "3.12.1"
  },
  "orig_nbformat": 4
 },
 "nbformat": 4,
 "nbformat_minor": 2
}
