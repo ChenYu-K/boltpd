{
 "cells": [
  {
   "cell_type": "code",
   "execution_count": 1,
   "metadata": {},
   "outputs": [
    {
     "name": "stdout",
     "output_type": "stream",
     "text": [
      "2\n"
     ]
    }
   ],
   "source": [
    "#from net import ResNet, Bottleneck, test\n",
    "import net\n",
    "\n",
    "c=net.test(1)\n",
    "print(c)\n"
   ]
  },
  {
   "cell_type": "code",
   "execution_count": 9,
   "metadata": {},
   "outputs": [
    {
     "name": "stdout",
     "output_type": "stream",
     "text": [
      "25.600000381469727\n",
      "890.0\n",
      "1620.199951171875\n",
      "39.5\n",
      "1600.0\n"
     ]
    }
   ],
   "source": [
    "import torch\n",
    "import torch.nn as nn\n",
    "from loss_function import HuberLoss\n",
    "\n",
    "loss_func1 = HuberLoss()\n",
    "loss_func2 = nn.MSELoss()\n",
    "# 假设你有输入张量input和目标张量target\n",
    "input = torch.tensor([50.0, 50.0, 50.0, 50.0, 50.0], dtype=torch.float32)\n",
    "input2 = torch.tensor([50.0])\n",
    "target = torch.tensor([10.0, 50.0, 90.0, 25.0, 25.0], dtype=torch.float32)\n",
    "target3 = torch.tensor([1.0,100.0,10.0,90.0,50.0], dtype=torch.float32)\n",
    "target2 = torch.tensor([10.0])\n",
    "#input = torch.randn(3, 5, requires_grad=True)\n",
    "#target = torch.randn(3, 5)\n",
    "\n",
    "loss1 = loss_func1(input, target)\n",
    "loss2 = loss_func2(input, target)\n",
    "loss3 = loss_func2(input, target3)\n",
    "\n",
    "loss21 = loss_func1(input2, target2)\n",
    "loss22 = loss_func2(input2, target2)\n",
    "\n",
    "\n",
    "print(loss1.item())\n",
    "print(loss2.item())\n",
    "print(loss3.item())\n",
    "print(loss21.item())\n",
    "print(loss22.item())\n"
   ]
  },
  {
   "cell_type": "code",
   "execution_count": null,
   "metadata": {},
   "outputs": [],
   "source": []
  }
 ],
 "metadata": {
  "kernelspec": {
   "display_name": "pytorch",
   "language": "python",
   "name": "python3"
  },
  "language_info": {
   "codemirror_mode": {
    "name": "ipython",
    "version": 3
   },
   "file_extension": ".py",
   "mimetype": "text/x-python",
   "name": "python",
   "nbconvert_exporter": "python",
   "pygments_lexer": "ipython3",
   "version": "3.11.0"
  },
  "orig_nbformat": 4
 },
 "nbformat": 4,
 "nbformat_minor": 2
}
