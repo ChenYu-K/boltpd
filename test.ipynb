{
 "cells": [
  {
   "cell_type": "code",
   "execution_count": 2,
   "id": "16feba43",
   "metadata": {},
   "outputs": [
    {
     "ename": "ValueError",
     "evalue": "could not broadcast input array from shape (0,0) into shape (1186,1186)",
     "output_type": "error",
     "traceback": [
      "\u001b[0;31m---------------------------------------------------------------------------\u001b[0m",
      "\u001b[0;31mValueError\u001b[0m                                Traceback (most recent call last)",
      "Cell \u001b[0;32mIn[2], line 40\u001b[0m\n\u001b[1;32m     37\u001b[0m image_after \u001b[39m=\u001b[39m cv2\u001b[39m.\u001b[39mimread(\u001b[39m\"\u001b[39m\u001b[39m./database/c_data/bolt4/DSC02300.JPG\u001b[39m\u001b[39m\"\u001b[39m, cv2\u001b[39m.\u001b[39mIMREAD_GRAYSCALE)\n\u001b[1;32m     39\u001b[0m \u001b[39m# 计算位移场\u001b[39;00m\n\u001b[0;32m---> 40\u001b[0m displacement_field \u001b[39m=\u001b[39m calculate_displacement(image_before, image_after)\n\u001b[1;32m     42\u001b[0m \u001b[39m# 计算形变场\u001b[39;00m\n\u001b[1;32m     43\u001b[0m strain_field \u001b[39m=\u001b[39m calculate_strain(displacement_field)\n",
      "Cell \u001b[0;32mIn[2], line 14\u001b[0m, in \u001b[0;36mcalculate_displacement\u001b[0;34m(image_before, image_after, window_size)\u001b[0m\n\u001b[1;32m     12\u001b[0m \u001b[39m# 在加载前的图像上找到最佳匹配点的位置\u001b[39;00m\n\u001b[1;32m     13\u001b[0m match_location \u001b[39m=\u001b[39m np\u001b[39m.\u001b[39mzeros_like(image_before, dtype\u001b[39m=\u001b[39mnp\u001b[39m.\u001b[39mfloat32)\n\u001b[0;32m---> 14\u001b[0m match_location[half_window:\u001b[39m-\u001b[39mhalf_window, half_window:\u001b[39m-\u001b[39mhalf_window] \u001b[39m=\u001b[39m cv2\u001b[39m.\u001b[39mmatchTemplate(image_before, image_after, cv2\u001b[39m.\u001b[39mTM_CCORR_NORMED)[half_window:\u001b[39m-\u001b[39mhalf_window, half_window:\u001b[39m-\u001b[39mhalf_window]\n\u001b[1;32m     16\u001b[0m \u001b[39m# 计算位移场\u001b[39;00m\n\u001b[1;32m     17\u001b[0m displacement_field \u001b[39m=\u001b[39m np\u001b[39m.\u001b[39mzeros_like(image_before, dtype\u001b[39m=\u001b[39mnp\u001b[39m.\u001b[39mfloat32)\n",
      "\u001b[0;31mValueError\u001b[0m: could not broadcast input array from shape (0,0) into shape (1186,1186)"
     ]
    }
   ],
   "source": [
    "import numpy as np\n",
    "import cv2\n",
    "\n",
    "def calculate_displacement(image_before, image_after, window_size=15):\n",
    "    # 使用互相关法计算位移场\n",
    "    # 在每个像素位置上，以窗口大小为基准，在加载前后的图像上寻找最佳匹配点\n",
    "    # 这里使用OpenCV的matchTemplate函数来实现互相关计算\n",
    "\n",
    "    # 根据窗口大小计算半窗口尺寸\n",
    "    half_window = window_size // 2\n",
    "\n",
    "    # 在加载前的图像上找到最佳匹配点的位置\n",
    "    match_location = np.zeros_like(image_before, dtype=np.float32)\n",
    "    match_location[half_window:-half_window, half_window:-half_window] = cv2.matchTemplate(image_before, image_after, cv2.TM_CCORR_NORMED)[half_window:-half_window, half_window:-half_window]\n",
    "\n",
    "    # 计算位移场\n",
    "    displacement_field = np.zeros_like(image_before, dtype=np.float32)\n",
    "    for y in range(half_window, image_before.shape[0] - half_window):\n",
    "        for x in range(half_window, image_before.shape[1] - half_window):\n",
    "            # 找到最大匹配点的位置\n",
    "            match_pos = np.unravel_index(np.argmax(match_location[y - half_window: y + half_window + 1, x - half_window: x + half_window + 1]), (window_size, window_size))\n",
    "\n",
    "            # 计算位移向量\n",
    "            displacement_field[y, x] = match_pos[0] - half_window, match_pos[1] - half_window\n",
    "\n",
    "    return displacement_field\n",
    "\n",
    "def calculate_strain(displacement_field):\n",
    "    # 根据位移场计算形变场\n",
    "    # 这里简单地假设形变场为二维平面的位移向量\n",
    "    strain_field = np.gradient(displacement_field)\n",
    "\n",
    "    return strain_field\n",
    "\n",
    "# 读取加载前后的图片\n",
    "image_before = cv2.imread(\"./database/c_data/bolt4/DSC02286.JPG\", cv2.IMREAD_GRAYSCALE)\n",
    "image_after = cv2.imread(\"./database/c_data/bolt4/DSC02300.JPG\", cv2.IMREAD_GRAYSCALE)\n",
    "\n",
    "# 计算位移场\n",
    "displacement_field = calculate_displacement(image_before, image_after)\n",
    "\n",
    "# 计算形变场\n",
    "strain_field = calculate_strain(displacement_field)\n",
    "\n",
    "# 输出形变场和应变场\n",
    "print(strain_field)"
   ]
  },
  {
   "cell_type": "code",
   "execution_count": null,
   "id": "830eb102",
   "metadata": {},
   "outputs": [],
   "source": [
    "print('hello')"
   ]
  }
 ],
 "metadata": {
  "kernelspec": {
   "display_name": "Python 3 (ipykernel)",
   "language": "python",
   "name": "python3"
  },
  "language_info": {
   "codemirror_mode": {
    "name": "ipython",
    "version": 3
   },
   "file_extension": ".py",
   "mimetype": "text/x-python",
   "name": "python",
   "nbconvert_exporter": "python",
   "pygments_lexer": "ipython3",
   "version": "3.1.0"
  }
 },
 "nbformat": 4,
 "nbformat_minor": 5
}
